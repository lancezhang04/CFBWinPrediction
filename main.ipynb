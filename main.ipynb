{
 "cells": [
  {
   "cell_type": "markdown",
   "id": "642c995f",
   "metadata": {},
   "source": [
    "### Introduction\n",
    "\n",
    "[TODO: Provide an overview on the dataset, motivation for the project, etc.]"
   ]
  },
  {
   "cell_type": "code",
   "execution_count": 1,
   "id": "4f28feb07320aaa9",
   "metadata": {
    "ExecuteTime": {
     "end_time": "2024-11-21T23:24:44.540621Z",
     "start_time": "2024-11-21T23:24:44.537858Z"
    }
   },
   "outputs": [
    {
     "data": {
      "text/plain": [
       "'\\nIdeas for new features\\n* Home game vs. bowl game\\n* Rivalry game and championship games\\n* Temperature differential for road team\\n* Number of points scored by offense in season\\n* Number of points allowed by defense in season\\n'"
      ]
     },
     "execution_count": 1,
     "metadata": {},
     "output_type": "execute_result"
    }
   ],
   "source": [
    "# TODO: Remove this cell\n",
    "\"\"\"\n",
    "Ideas for new features\n",
    "* Home game vs. bowl game\n",
    "* Rivalry game and championship games\n",
    "* Temperature differential for road team\n",
    "* Number of points scored by offense in season\n",
    "* Number of points allowed by defense in season\n",
    "\"\"\""
   ]
  },
  {
   "cell_type": "markdown",
   "id": "0f6de510",
   "metadata": {},
   "source": [
    "### 1. Make necessary imports"
   ]
  },
  {
   "cell_type": "code",
   "execution_count": 35,
   "id": "e056c0b3a398fd71",
   "metadata": {
    "ExecuteTime": {
     "end_time": "2024-11-21T23:24:43.554585Z",
     "start_time": "2024-11-21T23:24:41.919912Z"
    }
   },
   "outputs": [],
   "source": [
    "# Feature exploration\n",
    "import matplotlib.pyplot as plt\n",
    "plt.rcParams['axes.prop_cycle'] = plt.cycler(color=plt.cm.Dark2.colors)\n",
    "\n",
    "# Feature processing\n",
    "import pandas as pd\n",
    "import numpy as np\n",
    "from datetime import datetime\n",
    "import seaborn as sns\n",
    "import re\n",
    "\n",
    "# Modeling\n",
    "from sklearn.model_selection import train_test_split\n",
    "from sklearn.ensemble import RandomForestClassifier\n",
    "from sklearn.metrics import accuracy_score\n",
    "from sklearn.preprocessing import MinMaxScaler, StandardScaler\n",
    "from sklearn.tree import DecisionTreeClassifier\n",
    "from sklearn.naive_bayes import GaussianNB\n",
    "from sklearn.metrics import confusion_matrix, classification_report\n",
    "from sklearn.neighbors import KNeighborsClassifier\n",
    "from sklearn.svm import SVC\n",
    "from sklearn.ensemble import RandomForestClassifier\n",
    "from sklearn.ensemble import AdaBoostClassifier\n",
    "from sklearn.neural_network import MLPClassifier\n",
    "from sklearn.model_selection import cross_val_score\n",
    "from sklearn.model_selection import cross_val_predict\n",
    "from sklearn.model_selection import GridSearchCV\n",
    "from sklearn.metrics import f1_score\n",
    "from sklearn.pipeline import Pipeline\n",
    "from sklearn.decomposition import PCA"
   ]
  },
  {
   "cell_type": "markdown",
   "id": "e01c44f0",
   "metadata": {},
   "source": [
    "### 2. Load dataset"
   ]
  },
  {
   "cell_type": "code",
   "execution_count": 3,
   "id": "c1cf8f08",
   "metadata": {},
   "outputs": [
    {
     "data": {
      "text/html": [
       "<div>\n",
       "<style scoped>\n",
       "    .dataframe tbody tr th:only-of-type {\n",
       "        vertical-align: middle;\n",
       "    }\n",
       "\n",
       "    .dataframe tbody tr th {\n",
       "        vertical-align: top;\n",
       "    }\n",
       "\n",
       "    .dataframe thead th {\n",
       "        text-align: right;\n",
       "    }\n",
       "</style>\n",
       "<table border=\"1\" class=\"dataframe\">\n",
       "  <thead>\n",
       "    <tr style=\"text-align: right;\">\n",
       "      <th></th>\n",
       "      <th>Date</th>\n",
       "      <th>Team</th>\n",
       "      <th>Time</th>\n",
       "      <th>Opponent</th>\n",
       "      <th>Rank</th>\n",
       "      <th>Site</th>\n",
       "      <th>TV</th>\n",
       "      <th>Result</th>\n",
       "      <th>Attendance</th>\n",
       "      <th>Current Wins</th>\n",
       "      <th>...</th>\n",
       "      <th>PRCP</th>\n",
       "      <th>SNOW</th>\n",
       "      <th>SNWD</th>\n",
       "      <th>TMAX</th>\n",
       "      <th>TMIN</th>\n",
       "      <th>Opponent Rank</th>\n",
       "      <th>Conference</th>\n",
       "      <th>Year</th>\n",
       "      <th>Month</th>\n",
       "      <th>Day</th>\n",
       "    </tr>\n",
       "  </thead>\n",
       "  <tbody>\n",
       "    <tr>\n",
       "      <th>0</th>\n",
       "      <td>9/2/2000</td>\n",
       "      <td>Arkansas</td>\n",
       "      <td>8:00 PM</td>\n",
       "      <td>Southwest Missouri State*</td>\n",
       "      <td>NR</td>\n",
       "      <td>War Memorial StadiumLittle Rock, AR</td>\n",
       "      <td>Not on TV</td>\n",
       "      <td>W 38-0</td>\n",
       "      <td>53946</td>\n",
       "      <td>0</td>\n",
       "      <td>...</td>\n",
       "      <td>0.00</td>\n",
       "      <td>0.0</td>\n",
       "      <td>0.0</td>\n",
       "      <td>105</td>\n",
       "      <td>65</td>\n",
       "      <td>NR</td>\n",
       "      <td>SEC</td>\n",
       "      <td>2000</td>\n",
       "      <td>9</td>\n",
       "      <td>2</td>\n",
       "    </tr>\n",
       "    <tr>\n",
       "      <th>1</th>\n",
       "      <td>9/16/2000</td>\n",
       "      <td>Arkansas</td>\n",
       "      <td>6:00 PM</td>\n",
       "      <td>Boise State*</td>\n",
       "      <td>NR</td>\n",
       "      <td>War Memorial StadiumLittle Rock, AR</td>\n",
       "      <td>Not on TV</td>\n",
       "      <td>W 38-31</td>\n",
       "      <td>54286</td>\n",
       "      <td>1</td>\n",
       "      <td>...</td>\n",
       "      <td>0.00</td>\n",
       "      <td>0.0</td>\n",
       "      <td>0.0</td>\n",
       "      <td>79</td>\n",
       "      <td>44</td>\n",
       "      <td>NR</td>\n",
       "      <td>SEC</td>\n",
       "      <td>2000</td>\n",
       "      <td>9</td>\n",
       "      <td>16</td>\n",
       "    </tr>\n",
       "    <tr>\n",
       "      <th>2</th>\n",
       "      <td>9/23/2000</td>\n",
       "      <td>Arkansas</td>\n",
       "      <td>8:00 PM</td>\n",
       "      <td>Alabama</td>\n",
       "      <td>NR</td>\n",
       "      <td>Razorback StadiumFayetteville, AR</td>\n",
       "      <td>ESPN2</td>\n",
       "      <td>W 28-21</td>\n",
       "      <td>51482</td>\n",
       "      <td>2</td>\n",
       "      <td>...</td>\n",
       "      <td>2.12</td>\n",
       "      <td>0.0</td>\n",
       "      <td>0.0</td>\n",
       "      <td>85</td>\n",
       "      <td>63</td>\n",
       "      <td>NR</td>\n",
       "      <td>SEC</td>\n",
       "      <td>2000</td>\n",
       "      <td>9</td>\n",
       "      <td>23</td>\n",
       "    </tr>\n",
       "    <tr>\n",
       "      <th>3</th>\n",
       "      <td>9/30/2000</td>\n",
       "      <td>Arkansas</td>\n",
       "      <td>11:30 AM</td>\n",
       "      <td>No.-25 Georgia</td>\n",
       "      <td>NR</td>\n",
       "      <td>Razorback StadiumFayetteville, AR</td>\n",
       "      <td>JPS</td>\n",
       "      <td>L 7-38</td>\n",
       "      <td>51162</td>\n",
       "      <td>3</td>\n",
       "      <td>...</td>\n",
       "      <td>0.00</td>\n",
       "      <td>0.0</td>\n",
       "      <td>0.0</td>\n",
       "      <td>77</td>\n",
       "      <td>45</td>\n",
       "      <td>25</td>\n",
       "      <td>SEC</td>\n",
       "      <td>2000</td>\n",
       "      <td>9</td>\n",
       "      <td>30</td>\n",
       "    </tr>\n",
       "    <tr>\n",
       "      <th>4</th>\n",
       "      <td>10/7/2000</td>\n",
       "      <td>Arkansas</td>\n",
       "      <td>6:00 PM</td>\n",
       "      <td>Louisiana-Monroe*</td>\n",
       "      <td>NR</td>\n",
       "      <td>Razorback StadiumFayetteville, AR</td>\n",
       "      <td>Not on TV</td>\n",
       "      <td>W 52-6</td>\n",
       "      <td>50947</td>\n",
       "      <td>3</td>\n",
       "      <td>...</td>\n",
       "      <td>0.00</td>\n",
       "      <td>0.0</td>\n",
       "      <td>0.0</td>\n",
       "      <td>50</td>\n",
       "      <td>28</td>\n",
       "      <td>NR</td>\n",
       "      <td>SEC</td>\n",
       "      <td>2000</td>\n",
       "      <td>10</td>\n",
       "      <td>7</td>\n",
       "    </tr>\n",
       "  </tbody>\n",
       "</table>\n",
       "<p>5 rows × 25 columns</p>\n",
       "</div>"
      ],
      "text/plain": [
       "        Date      Team      Time                   Opponent Rank  \\\n",
       "0   9/2/2000  Arkansas   8:00 PM  Southwest Missouri State*   NR   \n",
       "1  9/16/2000  Arkansas   6:00 PM               Boise State*   NR   \n",
       "2  9/23/2000  Arkansas   8:00 PM                    Alabama   NR   \n",
       "3  9/30/2000  Arkansas  11:30 AM             No.-25 Georgia   NR   \n",
       "4  10/7/2000  Arkansas   6:00 PM          Louisiana-Monroe*   NR   \n",
       "\n",
       "                                  Site         TV   Result  Attendance  \\\n",
       "0  War Memorial StadiumLittle Rock, AR  Not on TV   W 38-0       53946   \n",
       "1  War Memorial StadiumLittle Rock, AR  Not on TV  W 38-31       54286   \n",
       "2    Razorback StadiumFayetteville, AR      ESPN2  W 28-21       51482   \n",
       "3    Razorback StadiumFayetteville, AR        JPS   L 7-38       51162   \n",
       "4    Razorback StadiumFayetteville, AR  Not on TV   W 52-6       50947   \n",
       "\n",
       "   Current Wins  ...  PRCP  SNOW  SNWD  TMAX  TMIN  Opponent Rank  Conference  \\\n",
       "0             0  ...  0.00   0.0   0.0   105    65             NR         SEC   \n",
       "1             1  ...  0.00   0.0   0.0    79    44             NR         SEC   \n",
       "2             2  ...  2.12   0.0   0.0    85    63             NR         SEC   \n",
       "3             3  ...  0.00   0.0   0.0    77    45             25         SEC   \n",
       "4             3  ...  0.00   0.0   0.0    50    28             NR         SEC   \n",
       "\n",
       "   Year  Month  Day  \n",
       "0  2000      9    2  \n",
       "1  2000      9   16  \n",
       "2  2000      9   23  \n",
       "3  2000      9   30  \n",
       "4  2000     10    7  \n",
       "\n",
       "[5 rows x 25 columns]"
      ]
     },
     "execution_count": 3,
     "metadata": {},
     "output_type": "execute_result"
    }
   ],
   "source": [
    "df = pd.read_csv(\"cfb_dataset.csv\", encoding=\"latin-1\")\n",
    "df = df.rename(columns={\"Opponent_Rank\": \"Opponent Rank\"})\n",
    "df.head(5)"
   ]
  },
  {
   "cell_type": "markdown",
   "id": "9f0c345e",
   "metadata": {},
   "source": [
    "Feature explanations:\n",
    "1. `Date`: MM/DD/YYYY of the game\n",
    "2. `Team`: Name of the home team\n",
    "3. `Time`: HH:MM of the game\n",
    "4. `Opponent`: Name of the away team\n",
    "5. `Rank`: Rank of the home team (based on the AP Poll)\n",
    "6. `Site`: Stadium that hosts the game\n",
    "7. `TV`: News channel that broadcasts the game\n",
    "8. `Result`: Final score\n",
    "9. `Attendance`: Number of fans in attendance\n",
    "10. `Current Wins`: Number of wins the home team has this season before this game\n",
    "11. `Current Losses`: Number of losses the home team has this season before this game\n",
    "12. `Stadium Capacity`: Maximum possible fans in the stadium\n",
    "13. `Fill Rate`: Attendance / Stadium Capacity\n",
    "14. `New Coach`: Whether a first year head coach is coaching the home team\n",
    "15. `Tailgating`: Whether Bleacher Report recognized the home team's school as a top 25 tailgating destination\n",
    "16. `PRCP`: Precipitation during the game\n",
    "17. `SNOW`: Snowfall during the game\n",
    "18. `SNWD`: Snow depth during the game\n",
    "19. `TMAX`: Maximum temperature during the game\n",
    "20. `TMIN`: Minimum temperature during the game\n",
    "21. `Opponent_Rank`: Rank of the away team (based on the AP Poll)\n",
    "22. `Conference`: FBS Conference of the home team\n",
    "23. `Year`: Year of the game\n",
    "24. `Month`: Month of the game\n",
    "25. `Day`: Day of the game\n",
    "\n",
    "Note:\n",
    "* Each game is only recorded ONCE from the HOME TEAM's perspective, \n",
    "  which we'll have to account for in feature engineering\n",
    "* This dataset only contains 63 CFB schools and doesn't contain, say Texas.\n",
    "  However, this should not influence our modeling since the actual name\n",
    "  of a school should be more or less irrelevant\n",
    "* This dataset also does not include playoff games (but includes rivalry games\n",
    "  and conference championship games)"
   ]
  },
  {
   "cell_type": "markdown",
   "id": "42197747",
   "metadata": {},
   "source": [
    "### 3. Data cleaning\n",
    "\n",
    "Before we can perform data engineering and create new features, we must work on data cleaning. For instance, our dataset contains a lot of non-numerical columns that need to be converted into numerical formats for analysis and modeling.\n",
    "\n",
    "#### I. Date processing\n",
    "\n",
    "First, we convert the `Date` column into `datetime` date objects to help with sorting and processing in the futhre."
   ]
  },
  {
   "cell_type": "code",
   "execution_count": 4,
   "id": "efcc306a125dab88",
   "metadata": {
    "ExecuteTime": {
     "end_time": "2024-11-21T23:24:45.213981Z",
     "start_time": "2024-11-21T23:24:45.192985Z"
    }
   },
   "outputs": [],
   "source": [
    "# Convert to datetime object for ease of processing\n",
    "convert_datetime = lambda s: datetime.strptime(s, \"%m/%d/%Y\")\n",
    "df[\"Date\"] = df[\"Date\"].apply(convert_datetime)"
   ]
  },
  {
   "cell_type": "markdown",
   "id": "9e0a008d",
   "metadata": {},
   "source": [
    "#### II. Target extraction\n",
    "\n",
    "Then, we extract the win/loss label for each game, converting it to a binary variable (1 for win, 0 for loss). This is the **target** that our model will be attempting to predict. We can now also drop the **result** column from our dataframe."
   ]
  },
  {
   "cell_type": "code",
   "execution_count": 5,
   "id": "4dd4ce873bde549d",
   "metadata": {
    "ExecuteTime": {
     "end_time": "2024-11-21T23:24:45.377846Z",
     "start_time": "2024-11-21T23:24:45.369808Z"
    }
   },
   "outputs": [],
   "source": [
    "# Drop invalid rows, 4355 resulted in Not Contest\n",
    "df = df.drop(index=[4355])\n",
    "# Not considering spring games\n",
    "df = df[~df[\"Opponent\"].str.contains(\"Spring Game\")]\n",
    "\n",
    "extract_result = lambda s: 1 if re.match(r\"^(W|L)\", s).group(1) == \"W\" else 0\n",
    "df[\"Target\"] = df[\"Result\"].apply(extract_result)\n",
    "\n",
    "# Extract points scored and points allowed for later feature engineering\n",
    "df[\"Points Scored\"] = df[\"Result\"].apply(lambda s: int(s.split('-')[0].split()[1]))\n",
    "df[\"Points Allowed\"] = df[\"Result\"].apply(lambda s: int(s.split('-')[1].split()[0]))\n",
    "\n",
    "df = df.drop(columns=[\"Result\"])"
   ]
  },
  {
   "cell_type": "markdown",
   "id": "bec2a8bb",
   "metadata": {},
   "source": [
    "#### III. Opponent names and conferences\n",
    "Here we process game data to clean opponent names and determine their conferences:\n",
    "1. Clean opponent names by removing special characters, rankings (e.g. \"No. 2\"), and other symbols.\n",
    "2. Match each opponent to their conference based on the year and team data from the dataset.\n",
    "3. Add `Opponent Conference`: The conference for the opponent, or \"N/A\" if not found.\n",
    "A limitation of this approach is that we can only impute the \"Opponent_Conference\" for opponents\n",
    "that are also one of the 63 schools included in the dataset. However, this is sufficient for our\n",
    "application."
   ]
  },
  {
   "cell_type": "code",
   "execution_count": 6,
   "id": "f0d5bf7876dec6dd",
   "metadata": {
    "ExecuteTime": {
     "end_time": "2024-11-21T23:24:47.717177Z",
     "start_time": "2024-11-21T23:24:46.445398Z"
    }
   },
   "outputs": [],
   "source": [
    "def clean_opponent_name(name):\n",
    "    name = name.replace(\"\\xa0\", \" \")\n",
    "    return re.sub(r\"No\\.\\s*\\d+\\s*\", \"\", name).rstrip('*')\n",
    "\n",
    "def get_opponent_conference(row, dataset):\n",
    "    opponent = row[\"Opponent\"]\n",
    "    year = row[\"Year\"]\n",
    "    opponent_games = dataset[(dataset[\"Team\"] == opponent) & (dataset[\"Year\"] == year)]\n",
    "    \n",
    "    if not opponent_games.empty:\n",
    "        conference = opponent_games[\"Conference\"].dropna().iloc[0]\n",
    "        return conference\n",
    "    else:\n",
    "        return \"N/A\"\n",
    "\n",
    "df[\"Opponent\"] = df[\"Opponent\"].apply(clean_opponent_name)\n",
    "df[\"Opponent Conference\"] = df.apply(get_opponent_conference, axis=1, args=(df,))"
   ]
  },
  {
   "cell_type": "markdown",
   "id": "67c008f5",
   "metadata": {},
   "source": [
    "#### IV. Making rank numerical\n",
    "\n",
    "Convert rank to a numerical value, \"NR\" or no ranking is represented with 26, which is one higher than the lowest possible ranking (25)."
   ]
  },
  {
   "cell_type": "code",
   "execution_count": 7,
   "id": "594a2d72c90150bf",
   "metadata": {
    "ExecuteTime": {
     "end_time": "2024-11-21T23:24:47.789557Z",
     "start_time": "2024-11-18T17:32:45.598663Z"
    }
   },
   "outputs": [],
   "source": [
    "convert_rank = lambda v: int(v) if v != \"NR\" else 26\n",
    "df[\"Rank\"] = df[\"Rank\"].apply(convert_rank)\n",
    "df[\"Opponent Rank\"] = df[\"Opponent Rank\"].apply(convert_rank)"
   ]
  },
  {
   "cell_type": "markdown",
   "id": "16d85e01",
   "metadata": {},
   "source": [
    "#### V. Processing start times\n",
    "\n",
    "Normalize the start times of the games. CFB games start between 10 AM and 9 PM. Using this information, we can normalize these times such that 0 represents a game starting at 10 AM and vice versa."
   ]
  },
  {
   "cell_type": "code",
   "execution_count": 8,
   "id": "186058a48e34fc17",
   "metadata": {
    "ExecuteTime": {
     "end_time": "2024-11-21T23:24:47.789992Z",
     "start_time": "2024-11-18T17:44:30.637488Z"
    }
   },
   "outputs": [],
   "source": [
    "convert_start_time = lambda t: datetime.strptime(t, \"%I:%M %p\")\n",
    "times = df[\"Time\"].apply(convert_start_time)\n",
    "min_time, max_time = convert_start_time(\"10:00 AM\"), convert_start_time(\"9:00 PM\")\n",
    "time_normalized = (times - min_time) / (max_time - min_time)\n",
    "df[\"Time\"] = time_normalized"
   ]
  },
  {
   "cell_type": "markdown",
   "id": "3099c6a9",
   "metadata": {},
   "source": [
    "#### VI. Binary features"
   ]
  },
  {
   "cell_type": "code",
   "execution_count": 9,
   "id": "75ce09f3",
   "metadata": {},
   "outputs": [],
   "source": [
    "binary_features = [\"Tailgating\", \"New Coach\"]\n",
    "df[binary_features] = df[binary_features].astype(int)"
   ]
  },
  {
   "cell_type": "markdown",
   "id": "260e7503",
   "metadata": {},
   "source": [
    "### 4. Data exploration\n",
    "\n",
    "#### I. Snowfall and snow depth\n",
    "\n",
    "Considering the months during which college football games are usually played, snowfall is very rare. Knowing this, we immediately considered removing these attributes. As you can see below, the vast majority of values for `SNOW` and `SNWD` (snow depth) are indeed zeroes. Keeping these features is unlikely to be helpful for our model."
   ]
  },
  {
   "cell_type": "code",
   "execution_count": 10,
   "id": "811650c3",
   "metadata": {},
   "outputs": [
    {
     "name": "stdout",
     "output_type": "stream",
     "text": [
      "False    6630\n",
      "True       37\n",
      "Name: SNOW, dtype: int64\n",
      "\n",
      "False    6632\n",
      "True       35\n",
      "Name: SNWD, dtype: int64\n"
     ]
    }
   ],
   "source": [
    "print((df[\"SNOW\"] > 0).value_counts(), end=\"\\n\\n\")\n",
    "print((df[\"SNWD\"] > 0).value_counts())\n",
    "df = df.drop(columns=[\"SNOW\", \"SNWD\"])"
   ]
  },
  {
   "cell_type": "markdown",
   "id": "97657fc1",
   "metadata": {},
   "source": [
    "#### II. Target variable distribution\n",
    "\n",
    "There are more wins than losses for the 63 teams in the dataset. This is because all games in the datasets are home games for these teams, and the included teams are on average above average in performance. However, this shouldn't be a huge issue given the data is not too imbalanced.\n",
    "\n",
    "Note: we cannot generate records from the away team's perspective since we don't have all the relevant information (for instance, whether they have a new coach in a given year)."
   ]
  },
  {
   "cell_type": "code",
   "execution_count": 11,
   "id": "16373dc5",
   "metadata": {},
   "outputs": [
    {
     "data": {
      "image/png": "[encoded data removed]",
      "text/plain": [
       "<Figure size 432x288 with 1 Axes>"
      ]
     },
     "metadata": {},
     "output_type": "display_data"
    }
   ],
   "source": [
    "df[\"Target\"].value_counts().plot.pie(\n",
    "    autopct=\"%1.1f%%\", \n",
    "    labels=[\"Wins\", \"Losses\"]\n",
    ")\n",
    "plt.title(\"Distribution of Wins vs. Losses\")\n",
    "plt.ylabel(\"\")\n",
    "plt.show()"
   ]
  },
  {
   "cell_type": "markdown",
   "id": "c995bb79",
   "metadata": {},
   "source": [
    "#### III. Correlation matrix\n",
    "\n",
    "We want to use a correlation matrix to see which features are highly correlated (and thus redundant) or combined to make new features."
   ]
  },
  {
   "cell_type": "code",
   "execution_count": 12,
   "id": "36cf37c0",
   "metadata": {},
   "outputs": [
    {
     "data": {
      "image/png": "[encoded data removed]",
      "text/plain": [
       "<Figure size 864x576 with 2 Axes>"
      ]
     },
     "metadata": {
      "needs_background": "light"
     },
     "output_type": "display_data"
    }
   ],
   "source": [
    "# Extract the numerical features to create the correlation matrix\n",
    "df_numerical = df.select_dtypes(include=[np.number])\n",
    "\n",
    "plt.figure(figsize=(12, 8))\n",
    "correlation_matrix = df_numerical.corr()\n",
    "sns.heatmap(correlation_matrix, annot=True, cmap='coolwarm', fmt='.2f')\n",
    "plt.title('Correlation Matrix for Numerical Features')\n",
    "plt.show()"
   ]
  },
  {
   "cell_type": "markdown",
   "id": "a62c6077",
   "metadata": {},
   "source": [
    "**Observations**\n",
    "- `Tailgating` has a strong positive correlation with `Attendance` and `Fill Rate`, indicating schools that are better at tailgating also love to fill their stadiums and show up in large numbers. It has a moderate negative correlation with `Rank`, indicating schools that are better at tailgating are more likely to have better ranks (lower rank number, hence the negative).\n",
    "- `Stadium Capacity`, `Attendance`, and `Fill Rate` all have a moderate negative correlation with `Rank`, which indicates how more fan presence can improve rank.\n",
    "- `Current Wins` has a moderate negative correlation with `Rank` while `Current Losses` has a moderate positive correlation with `Rank`, showing how a better season record (more wins than losses) leads to a better rank.\n",
    "\n",
    "**Potential actions**\n",
    "- There is a very strong positive correlation between `Attendance` and `Stadium Capacity` (which makes sense because a bigger stadium allows for more fans to attend), **so we can likely drop one of these features (like `Stadium Capacity`) as they convey the same information.**\n",
    "- There is a strong positive correlation between `Current Wins`, `Current Losses` and `Month`, as more wins/losses accumulate as the months go by. There is a moderately strong negative correlation between `TMIN`, `TMAX` and `Month`, as the temperature gets colder as the months go by. These two observations help explain the moderate negative correlation between `Current Wins`, `Current Losses` and `TMIN`, `TMAX`, as temperatures drop as the season progresses and wins/losses grow. **These observations support the idea of creating two features, one for win/loss ratio (model would understand this better as it doesn't just accumulate throughout the season and can actually reflect performance) and one for season progression (like number of games played, which would more accurately convey the information that month conveys).**\n",
    "- `TMIN` and `TMAX` have a very strong positive correlation with one another, as they can convey similar information about the temperature. **We can replace these two features with average temperature ((`TMIN` + `TMAX`) / 2) to group the two similar features in one.**\n",
    "\n",
    "**Additional comments**\n",
    "- `Year` and `Day` have very little correlation with `Target`, **so we can likely drop these later on.**\n",
    "- `PRCP` and `New Coach` have little correlation with `Target`, but we may not want to drop these for now as logically they could have an impact."
   ]
  },
  {
   "cell_type": "markdown",
   "id": "6720b654",
   "metadata": {},
   "source": [
    "#### IV. Add `Win Ratio` and `Games Played`"
   ]
  },
  {
   "cell_type": "code",
   "execution_count": 13,
   "id": "d0c21b8a",
   "metadata": {},
   "outputs": [],
   "source": [
    "df['Win Ratio'] = df['Current Wins'] / (df['Current Wins'] + df['Current Losses'])\n",
    "df['Games Played'] = df['Current Wins'] + df['Current Losses']\n",
    "df[\"Win Ratio\"] = df['Win Ratio'].fillna(0)"
   ]
  },
  {
   "cell_type": "markdown",
   "id": "ccfc3c4e",
   "metadata": {},
   "source": [
    "#### V. Add `Average Temperature`"
   ]
  },
  {
   "cell_type": "code",
   "execution_count": 14,
   "id": "e9e7db4e",
   "metadata": {},
   "outputs": [],
   "source": [
    "df['Average Temperature'] = (df['TMIN'] + df['TMAX']) / 2"
   ]
  },
  {
   "cell_type": "markdown",
   "id": "3cad11b1",
   "metadata": {},
   "source": [
    "#### VI. Drop discussed featrues"
   ]
  },
  {
   "cell_type": "code",
   "execution_count": 15,
   "id": "315cc3fd",
   "metadata": {},
   "outputs": [],
   "source": [
    "to_drop = [\n",
    "    \"Stadium Capacity\",\n",
    "    \"Current Wins\", \"Current Losses\",\n",
    "    \"TMIN\", \"TMAX\",\n",
    "]\n",
    "df = df.drop(columns=to_drop)"
   ]
  },
  {
   "cell_type": "markdown",
   "id": "71ccacaf",
   "metadata": {},
   "source": [
    "#### VII. Conference\n",
    "\n",
    "A school's conference has a huge impact in college football, some conferences\n",
    "(e.g. SEC) have been historical football strongholds, whereas others (e.g. AAC,\n",
    "Pac-12) often struggle with out-of-conference games.\n",
    "\n",
    "After calculating the win rates grouped by conference, we can see that the rates\n",
    "vary widely. Interestingly FCS (the second tier of D1 football) and WAC (the Western\n",
    "Athletic Conference, inactive from 2013 to 2020) have the highest win rates. This\n",
    "might be because that there is only a small sample size of FCS school games, and\n",
    "WAC schools play few strong out of conference opponents by design of the conference.\n",
    "\n",
    "Hence, we'll be keeping `Conference` as a feature."
   ]
  },
  {
   "cell_type": "code",
   "execution_count": 16,
   "id": "ba0abbd6",
   "metadata": {},
   "outputs": [
    {
     "name": "stdout",
     "output_type": "stream",
     "text": [
      "FCS games count: 91\n"
     ]
    },
    {
     "data": {
      "image/png": "[encoded data removed]",
      "text/plain": [
       "<Figure size 720x360 with 1 Axes>"
      ]
     },
     "metadata": {
      "needs_background": "light"
     },
     "output_type": "display_data"
    }
   ],
   "source": [
    "print(\"FCS games count:\", len(df[df[\"Conference\"] == \"FCS\"]))\n",
    "stats = df.groupby(\"Conference\")[\"Target\"].mean().sort_values(ascending=False)\n",
    "\n",
    "plt.figure(figsize=(10, 5))\n",
    "stats.plot(kind=\"bar\")\n",
    "plt.ylim([0.5, 0.8])\n",
    "plt.show()"
   ]
  },
  {
   "cell_type": "markdown",
   "id": "ca7345b0",
   "metadata": {},
   "source": [
    "#### VIII. Add `Points Scored Season` and `Points Allowed Season`"
   ]
  },
  {
   "cell_type": "code",
   "execution_count": 17,
   "id": "c84afc21",
   "metadata": {},
   "outputs": [],
   "source": [
    "grouped = df.groupby(['Team', 'Year'])\n",
    "df['Points Scored Season'] = grouped['Points Scored'].cumsum().shift(1, fill_value=0)\n",
    "df['Points Allowed Season'] = grouped['Points Allowed'].cumsum().shift(1, fill_value=0)"
   ]
  },
  {
   "cell_type": "markdown",
   "id": "e3625660",
   "metadata": {},
   "source": [
    "#### IX. Drop unecessary columns"
   ]
  },
  {
   "cell_type": "code",
   "execution_count": 18,
   "id": "f12203f5",
   "metadata": {},
   "outputs": [],
   "source": [
    "\"\"\"\n",
    "The actually team names should be generally irrelevant in win prediction\n",
    "\"\"\"\n",
    "to_drop = [\n",
    "    \"Team\", \"Opponent\",\n",
    "    \"Site\", \n",
    "    \"Date\", \"Year\", \"Month\",\n",
    "    \"TV\",\n",
    "    \"Day\",\n",
    "    \"Points Scored\",\n",
    "    \"Points Allowed\"\n",
    "]\n",
    "df = df.drop(columns=to_drop)"
   ]
  },
  {
   "cell_type": "markdown",
   "id": "d8b30d34",
   "metadata": {},
   "source": [
    "#### X. One hot encode `Conference` and `Opponent Conference`\n",
    "\n",
    "We will one hot encode `Conference` so that it can be represented as a numerical value in training. For `Opponent Conference`, we want to handle the great number of N/A values and the generally low number of known conferences. We will separate opponent conferences into four groups: Power 5, Same Conference (as home team), Non-Power 5, N/A. This will help extract the most useful information (for example, games between two teams of the same conference can have more importance, and there is usually a drastic strength difference between Power 5 and Non-Power 5 teams)."
   ]
  },
  {
   "cell_type": "code",
   "execution_count": 19,
   "id": "d630e3a2",
   "metadata": {},
   "outputs": [
    {
     "data": {
      "text/html": [
       "<div>\n",
       "<style scoped>\n",
       "    .dataframe tbody tr th:only-of-type {\n",
       "        vertical-align: middle;\n",
       "    }\n",
       "\n",
       "    .dataframe tbody tr th {\n",
       "        vertical-align: top;\n",
       "    }\n",
       "\n",
       "    .dataframe thead th {\n",
       "        text-align: right;\n",
       "    }\n",
       "</style>\n",
       "<table border=\"1\" class=\"dataframe\">\n",
       "  <thead>\n",
       "    <tr style=\"text-align: right;\">\n",
       "      <th></th>\n",
       "      <th>Time</th>\n",
       "      <th>Rank</th>\n",
       "      <th>Attendance</th>\n",
       "      <th>Fill Rate</th>\n",
       "      <th>New Coach</th>\n",
       "      <th>Tailgating</th>\n",
       "      <th>PRCP</th>\n",
       "      <th>Opponent Rank</th>\n",
       "      <th>Target</th>\n",
       "      <th>Win Ratio</th>\n",
       "      <th>...</th>\n",
       "      <th>Home Conference_Independent</th>\n",
       "      <th>Home Conference_MWC</th>\n",
       "      <th>Home Conference_Mid-American</th>\n",
       "      <th>Home Conference_Pac-12</th>\n",
       "      <th>Home Conference_SEC</th>\n",
       "      <th>Home Conference_Sun Belt</th>\n",
       "      <th>Home Conference_WAC</th>\n",
       "      <th>Opponent Conference_Non-Power 5</th>\n",
       "      <th>Opponent Conference_Power 5</th>\n",
       "      <th>Opponent Conference_Same Conference</th>\n",
       "    </tr>\n",
       "  </thead>\n",
       "  <tbody>\n",
       "    <tr>\n",
       "      <th>0</th>\n",
       "      <td>0.909091</td>\n",
       "      <td>26</td>\n",
       "      <td>53946</td>\n",
       "      <td>1.004076</td>\n",
       "      <td>0</td>\n",
       "      <td>0</td>\n",
       "      <td>0.00</td>\n",
       "      <td>26</td>\n",
       "      <td>1</td>\n",
       "      <td>0.00</td>\n",
       "      <td>...</td>\n",
       "      <td>0</td>\n",
       "      <td>0</td>\n",
       "      <td>0</td>\n",
       "      <td>0</td>\n",
       "      <td>1</td>\n",
       "      <td>0</td>\n",
       "      <td>0</td>\n",
       "      <td>1</td>\n",
       "      <td>0</td>\n",
       "      <td>0</td>\n",
       "    </tr>\n",
       "    <tr>\n",
       "      <th>1</th>\n",
       "      <td>0.727273</td>\n",
       "      <td>26</td>\n",
       "      <td>54286</td>\n",
       "      <td>1.010404</td>\n",
       "      <td>0</td>\n",
       "      <td>0</td>\n",
       "      <td>0.00</td>\n",
       "      <td>26</td>\n",
       "      <td>1</td>\n",
       "      <td>1.00</td>\n",
       "      <td>...</td>\n",
       "      <td>0</td>\n",
       "      <td>0</td>\n",
       "      <td>0</td>\n",
       "      <td>0</td>\n",
       "      <td>1</td>\n",
       "      <td>0</td>\n",
       "      <td>0</td>\n",
       "      <td>1</td>\n",
       "      <td>0</td>\n",
       "      <td>0</td>\n",
       "    </tr>\n",
       "    <tr>\n",
       "      <th>2</th>\n",
       "      <td>0.909091</td>\n",
       "      <td>26</td>\n",
       "      <td>51482</td>\n",
       "      <td>1.029249</td>\n",
       "      <td>0</td>\n",
       "      <td>0</td>\n",
       "      <td>2.12</td>\n",
       "      <td>26</td>\n",
       "      <td>1</td>\n",
       "      <td>1.00</td>\n",
       "      <td>...</td>\n",
       "      <td>0</td>\n",
       "      <td>0</td>\n",
       "      <td>0</td>\n",
       "      <td>0</td>\n",
       "      <td>1</td>\n",
       "      <td>0</td>\n",
       "      <td>0</td>\n",
       "      <td>0</td>\n",
       "      <td>0</td>\n",
       "      <td>1</td>\n",
       "    </tr>\n",
       "    <tr>\n",
       "      <th>3</th>\n",
       "      <td>0.136364</td>\n",
       "      <td>26</td>\n",
       "      <td>51162</td>\n",
       "      <td>1.022851</td>\n",
       "      <td>0</td>\n",
       "      <td>0</td>\n",
       "      <td>0.00</td>\n",
       "      <td>25</td>\n",
       "      <td>0</td>\n",
       "      <td>1.00</td>\n",
       "      <td>...</td>\n",
       "      <td>0</td>\n",
       "      <td>0</td>\n",
       "      <td>0</td>\n",
       "      <td>0</td>\n",
       "      <td>1</td>\n",
       "      <td>0</td>\n",
       "      <td>0</td>\n",
       "      <td>1</td>\n",
       "      <td>0</td>\n",
       "      <td>0</td>\n",
       "    </tr>\n",
       "    <tr>\n",
       "      <th>4</th>\n",
       "      <td>0.727273</td>\n",
       "      <td>26</td>\n",
       "      <td>50947</td>\n",
       "      <td>1.018553</td>\n",
       "      <td>0</td>\n",
       "      <td>0</td>\n",
       "      <td>0.00</td>\n",
       "      <td>26</td>\n",
       "      <td>1</td>\n",
       "      <td>0.75</td>\n",
       "      <td>...</td>\n",
       "      <td>0</td>\n",
       "      <td>0</td>\n",
       "      <td>0</td>\n",
       "      <td>0</td>\n",
       "      <td>1</td>\n",
       "      <td>0</td>\n",
       "      <td>0</td>\n",
       "      <td>1</td>\n",
       "      <td>0</td>\n",
       "      <td>0</td>\n",
       "    </tr>\n",
       "  </tbody>\n",
       "</table>\n",
       "<p>5 rows × 31 columns</p>\n",
       "</div>"
      ],
      "text/plain": [
       "       Time  Rank  Attendance  Fill Rate  New Coach  Tailgating  PRCP  \\\n",
       "0  0.909091    26       53946   1.004076          0           0  0.00   \n",
       "1  0.727273    26       54286   1.010404          0           0  0.00   \n",
       "2  0.909091    26       51482   1.029249          0           0  2.12   \n",
       "3  0.136364    26       51162   1.022851          0           0  0.00   \n",
       "4  0.727273    26       50947   1.018553          0           0  0.00   \n",
       "\n",
       "   Opponent Rank  Target  Win Ratio  ...  Home Conference_Independent  \\\n",
       "0             26       1       0.00  ...                            0   \n",
       "1             26       1       1.00  ...                            0   \n",
       "2             26       1       1.00  ...                            0   \n",
       "3             25       0       1.00  ...                            0   \n",
       "4             26       1       0.75  ...                            0   \n",
       "\n",
       "   Home Conference_MWC  Home Conference_Mid-American  Home Conference_Pac-12  \\\n",
       "0                    0                             0                       0   \n",
       "1                    0                             0                       0   \n",
       "2                    0                             0                       0   \n",
       "3                    0                             0                       0   \n",
       "4                    0                             0                       0   \n",
       "\n",
       "   Home Conference_SEC  Home Conference_Sun Belt  Home Conference_WAC  \\\n",
       "0                    1                         0                    0   \n",
       "1                    1                         0                    0   \n",
       "2                    1                         0                    0   \n",
       "3                    1                         0                    0   \n",
       "4                    1                         0                    0   \n",
       "\n",
       "   Opponent Conference_Non-Power 5  Opponent Conference_Power 5  \\\n",
       "0                                1                            0   \n",
       "1                                1                            0   \n",
       "2                                0                            0   \n",
       "3                                1                            0   \n",
       "4                                1                            0   \n",
       "\n",
       "   Opponent Conference_Same Conference  \n",
       "0                                    0  \n",
       "1                                    0  \n",
       "2                                    1  \n",
       "3                                    0  \n",
       "4                                    0  \n",
       "\n",
       "[5 rows x 31 columns]"
      ]
     },
     "execution_count": 19,
     "metadata": {},
     "output_type": "execute_result"
    }
   ],
   "source": [
    "power_5 = {'SEC', 'Big-10', 'Big-12', 'ACC', 'Pac-12'}\n",
    "\n",
    "def classify_conference(team_conf, opp_conf):\n",
    "    if team_conf == opp_conf:\n",
    "        return 'Same Conference'\n",
    "    elif opp_conf in power_5:\n",
    "        return 'Power 5'\n",
    "    elif opp_conf is None:\n",
    "        return 'N/A'\n",
    "    else:\n",
    "        return 'Non-Power 5'\n",
    "    \n",
    "df['Opponent Conference Category'] = df.apply(\n",
    "    lambda row: classify_conference(row['Conference'], row['Opponent Conference']),\n",
    "    axis=1\n",
    ")\n",
    "\n",
    "home_one_hot = pd.get_dummies(df['Conference'], prefix='Home Conference').astype(int)\n",
    "opponent_one_hot = pd.get_dummies(df['Opponent Conference Category'], prefix='Opponent Conference').astype(int)\n",
    "df = pd.concat([df, home_one_hot, opponent_one_hot], axis=1)\n",
    "df = df.drop(columns=[\"Conference\", \"Opponent Conference\", \"Opponent Conference Category\"])\n",
    "df.head()"
   ]
  },
  {
   "cell_type": "markdown",
   "id": "f4532d2b",
   "metadata": {},
   "source": [
    "#### XI. Normalize continuous features using StandardScaler"
   ]
  },
  {
   "cell_type": "code",
   "execution_count": 20,
   "id": "5fd892a6",
   "metadata": {},
   "outputs": [
    {
     "data": {
      "text/html": [
       "<div>\n",
       "<style scoped>\n",
       "    .dataframe tbody tr th:only-of-type {\n",
       "        vertical-align: middle;\n",
       "    }\n",
       "\n",
       "    .dataframe tbody tr th {\n",
       "        vertical-align: top;\n",
       "    }\n",
       "\n",
       "    .dataframe thead th {\n",
       "        text-align: right;\n",
       "    }\n",
       "</style>\n",
       "<table border=\"1\" class=\"dataframe\">\n",
       "  <thead>\n",
       "    <tr style=\"text-align: right;\">\n",
       "      <th></th>\n",
       "      <th>Time</th>\n",
       "      <th>Rank</th>\n",
       "      <th>Attendance</th>\n",
       "      <th>Fill Rate</th>\n",
       "      <th>New Coach</th>\n",
       "      <th>Tailgating</th>\n",
       "      <th>PRCP</th>\n",
       "      <th>Opponent Rank</th>\n",
       "      <th>Target</th>\n",
       "      <th>Win Ratio</th>\n",
       "      <th>...</th>\n",
       "      <th>Home Conference_Independent</th>\n",
       "      <th>Home Conference_MWC</th>\n",
       "      <th>Home Conference_Mid-American</th>\n",
       "      <th>Home Conference_Pac-12</th>\n",
       "      <th>Home Conference_SEC</th>\n",
       "      <th>Home Conference_Sun Belt</th>\n",
       "      <th>Home Conference_WAC</th>\n",
       "      <th>Opponent Conference_Non-Power 5</th>\n",
       "      <th>Opponent Conference_Power 5</th>\n",
       "      <th>Opponent Conference_Same Conference</th>\n",
       "    </tr>\n",
       "  </thead>\n",
       "  <tbody>\n",
       "    <tr>\n",
       "      <th>0</th>\n",
       "      <td>1.531297</td>\n",
       "      <td>0.44132</td>\n",
       "      <td>0.342211</td>\n",
       "      <td>0.948179</td>\n",
       "      <td>0</td>\n",
       "      <td>0</td>\n",
       "      <td>-0.276232</td>\n",
       "      <td>26</td>\n",
       "      <td>1</td>\n",
       "      <td>-1.517671</td>\n",
       "      <td>...</td>\n",
       "      <td>0</td>\n",
       "      <td>0</td>\n",
       "      <td>0</td>\n",
       "      <td>0</td>\n",
       "      <td>1</td>\n",
       "      <td>0</td>\n",
       "      <td>0</td>\n",
       "      <td>1</td>\n",
       "      <td>0</td>\n",
       "      <td>0</td>\n",
       "    </tr>\n",
       "    <tr>\n",
       "      <th>1</th>\n",
       "      <td>0.832755</td>\n",
       "      <td>0.44132</td>\n",
       "      <td>0.355719</td>\n",
       "      <td>0.976773</td>\n",
       "      <td>0</td>\n",
       "      <td>0</td>\n",
       "      <td>-0.276232</td>\n",
       "      <td>26</td>\n",
       "      <td>1</td>\n",
       "      <td>1.478125</td>\n",
       "      <td>...</td>\n",
       "      <td>0</td>\n",
       "      <td>0</td>\n",
       "      <td>0</td>\n",
       "      <td>0</td>\n",
       "      <td>1</td>\n",
       "      <td>0</td>\n",
       "      <td>0</td>\n",
       "      <td>1</td>\n",
       "      <td>0</td>\n",
       "      <td>0</td>\n",
       "    </tr>\n",
       "    <tr>\n",
       "      <th>2</th>\n",
       "      <td>1.531297</td>\n",
       "      <td>0.44132</td>\n",
       "      <td>0.244316</td>\n",
       "      <td>1.061922</td>\n",
       "      <td>0</td>\n",
       "      <td>0</td>\n",
       "      <td>6.000437</td>\n",
       "      <td>26</td>\n",
       "      <td>1</td>\n",
       "      <td>1.478125</td>\n",
       "      <td>...</td>\n",
       "      <td>0</td>\n",
       "      <td>0</td>\n",
       "      <td>0</td>\n",
       "      <td>0</td>\n",
       "      <td>1</td>\n",
       "      <td>0</td>\n",
       "      <td>0</td>\n",
       "      <td>0</td>\n",
       "      <td>0</td>\n",
       "      <td>1</td>\n",
       "    </tr>\n",
       "    <tr>\n",
       "      <th>3</th>\n",
       "      <td>-1.437507</td>\n",
       "      <td>0.44132</td>\n",
       "      <td>0.231603</td>\n",
       "      <td>1.033015</td>\n",
       "      <td>0</td>\n",
       "      <td>0</td>\n",
       "      <td>-0.276232</td>\n",
       "      <td>25</td>\n",
       "      <td>0</td>\n",
       "      <td>1.478125</td>\n",
       "      <td>...</td>\n",
       "      <td>0</td>\n",
       "      <td>0</td>\n",
       "      <td>0</td>\n",
       "      <td>0</td>\n",
       "      <td>1</td>\n",
       "      <td>0</td>\n",
       "      <td>0</td>\n",
       "      <td>1</td>\n",
       "      <td>0</td>\n",
       "      <td>0</td>\n",
       "    </tr>\n",
       "    <tr>\n",
       "      <th>4</th>\n",
       "      <td>0.832755</td>\n",
       "      <td>0.44132</td>\n",
       "      <td>0.223061</td>\n",
       "      <td>1.013593</td>\n",
       "      <td>0</td>\n",
       "      <td>0</td>\n",
       "      <td>-0.276232</td>\n",
       "      <td>26</td>\n",
       "      <td>1</td>\n",
       "      <td>0.729176</td>\n",
       "      <td>...</td>\n",
       "      <td>0</td>\n",
       "      <td>0</td>\n",
       "      <td>0</td>\n",
       "      <td>0</td>\n",
       "      <td>1</td>\n",
       "      <td>0</td>\n",
       "      <td>0</td>\n",
       "      <td>1</td>\n",
       "      <td>0</td>\n",
       "      <td>0</td>\n",
       "    </tr>\n",
       "  </tbody>\n",
       "</table>\n",
       "<p>5 rows × 31 columns</p>\n",
       "</div>"
      ],
      "text/plain": [
       "       Time     Rank  Attendance  Fill Rate  New Coach  Tailgating      PRCP  \\\n",
       "0  1.531297  0.44132    0.342211   0.948179          0           0 -0.276232   \n",
       "1  0.832755  0.44132    0.355719   0.976773          0           0 -0.276232   \n",
       "2  1.531297  0.44132    0.244316   1.061922          0           0  6.000437   \n",
       "3 -1.437507  0.44132    0.231603   1.033015          0           0 -0.276232   \n",
       "4  0.832755  0.44132    0.223061   1.013593          0           0 -0.276232   \n",
       "\n",
       "   Opponent Rank  Target  Win Ratio  ...  Home Conference_Independent  \\\n",
       "0             26       1  -1.517671  ...                            0   \n",
       "1             26       1   1.478125  ...                            0   \n",
       "2             26       1   1.478125  ...                            0   \n",
       "3             25       0   1.478125  ...                            0   \n",
       "4             26       1   0.729176  ...                            0   \n",
       "\n",
       "   Home Conference_MWC  Home Conference_Mid-American  Home Conference_Pac-12  \\\n",
       "0                    0                             0                       0   \n",
       "1                    0                             0                       0   \n",
       "2                    0                             0                       0   \n",
       "3                    0                             0                       0   \n",
       "4                    0                             0                       0   \n",
       "\n",
       "   Home Conference_SEC  Home Conference_Sun Belt  Home Conference_WAC  \\\n",
       "0                    1                         0                    0   \n",
       "1                    1                         0                    0   \n",
       "2                    1                         0                    0   \n",
       "3                    1                         0                    0   \n",
       "4                    1                         0                    0   \n",
       "\n",
       "   Opponent Conference_Non-Power 5  Opponent Conference_Power 5  \\\n",
       "0                                1                            0   \n",
       "1                                1                            0   \n",
       "2                                0                            0   \n",
       "3                                1                            0   \n",
       "4                                1                            0   \n",
       "\n",
       "   Opponent Conference_Same Conference  \n",
       "0                                    0  \n",
       "1                                    0  \n",
       "2                                    1  \n",
       "3                                    0  \n",
       "4                                    0  \n",
       "\n",
       "[5 rows x 31 columns]"
      ]
     },
     "execution_count": 20,
     "metadata": {},
     "output_type": "execute_result"
    }
   ],
   "source": [
    "scaler = StandardScaler()\n",
    "continuous_features = [\n",
    "    'Time', 'Rank', 'Attendance', 'Fill Rate', 'PRCP', 'Average Temperature', 'Win Ratio', 'Games Played'\n",
    "]\n",
    "df[continuous_features] = scaler.fit_transform(df[continuous_features])\n",
    "df.head()"
   ]
  },
  {
   "cell_type": "markdown",
   "id": "9223ba46",
   "metadata": {},
   "source": [
    "#### Modeling Experiments"
   ]
  },
  {
   "cell_type": "code",
   "execution_count": 23,
   "id": "aa22ea34",
   "metadata": {},
   "outputs": [
    {
     "name": "stdout",
     "output_type": "stream",
     "text": [
      "Accuracy: 70.76%\n"
     ]
    },
    {
     "data": {
      "text/html": [
       "<div>\n",
       "<style scoped>\n",
       "    .dataframe tbody tr th:only-of-type {\n",
       "        vertical-align: middle;\n",
       "    }\n",
       "\n",
       "    .dataframe tbody tr th {\n",
       "        vertical-align: top;\n",
       "    }\n",
       "\n",
       "    .dataframe thead th {\n",
       "        text-align: right;\n",
       "    }\n",
       "</style>\n",
       "<table border=\"1\" class=\"dataframe\">\n",
       "  <thead>\n",
       "    <tr style=\"text-align: right;\">\n",
       "      <th></th>\n",
       "      <th>Feature</th>\n",
       "      <th>Important Score</th>\n",
       "    </tr>\n",
       "  </thead>\n",
       "  <tbody>\n",
       "    <tr>\n",
       "      <th>0</th>\n",
       "      <td>Time</td>\n",
       "      <td>0.067187</td>\n",
       "    </tr>\n",
       "    <tr>\n",
       "      <th>1</th>\n",
       "      <td>Rank</td>\n",
       "      <td>0.033207</td>\n",
       "    </tr>\n",
       "    <tr>\n",
       "      <th>2</th>\n",
       "      <td>Attendance</td>\n",
       "      <td>0.109058</td>\n",
       "    </tr>\n",
       "    <tr>\n",
       "      <th>3</th>\n",
       "      <td>Fill Rate</td>\n",
       "      <td>0.102980</td>\n",
       "    </tr>\n",
       "    <tr>\n",
       "      <th>4</th>\n",
       "      <td>New Coach</td>\n",
       "      <td>0.012715</td>\n",
       "    </tr>\n",
       "    <tr>\n",
       "      <th>5</th>\n",
       "      <td>Tailgating</td>\n",
       "      <td>0.008914</td>\n",
       "    </tr>\n",
       "    <tr>\n",
       "      <th>6</th>\n",
       "      <td>PRCP</td>\n",
       "      <td>0.037431</td>\n",
       "    </tr>\n",
       "    <tr>\n",
       "      <th>7</th>\n",
       "      <td>Opponent Rank</td>\n",
       "      <td>0.082079</td>\n",
       "    </tr>\n",
       "    <tr>\n",
       "      <th>8</th>\n",
       "      <td>Win Ratio</td>\n",
       "      <td>0.079051</td>\n",
       "    </tr>\n",
       "    <tr>\n",
       "      <th>9</th>\n",
       "      <td>Games Played</td>\n",
       "      <td>0.057798</td>\n",
       "    </tr>\n",
       "    <tr>\n",
       "      <th>10</th>\n",
       "      <td>Average Temperature</td>\n",
       "      <td>0.090859</td>\n",
       "    </tr>\n",
       "    <tr>\n",
       "      <th>11</th>\n",
       "      <td>Points Scored Season</td>\n",
       "      <td>0.107670</td>\n",
       "    </tr>\n",
       "    <tr>\n",
       "      <th>12</th>\n",
       "      <td>Points Allowed Season</td>\n",
       "      <td>0.097960</td>\n",
       "    </tr>\n",
       "    <tr>\n",
       "      <th>13</th>\n",
       "      <td>Home Conference_AAC</td>\n",
       "      <td>0.004725</td>\n",
       "    </tr>\n",
       "    <tr>\n",
       "      <th>14</th>\n",
       "      <td>Home Conference_ACC</td>\n",
       "      <td>0.009937</td>\n",
       "    </tr>\n",
       "    <tr>\n",
       "      <th>15</th>\n",
       "      <td>Home Conference_Big East</td>\n",
       "      <td>0.003187</td>\n",
       "    </tr>\n",
       "    <tr>\n",
       "      <th>16</th>\n",
       "      <td>Home Conference_Big-10</td>\n",
       "      <td>0.009058</td>\n",
       "    </tr>\n",
       "    <tr>\n",
       "      <th>17</th>\n",
       "      <td>Home Conference_Big-12</td>\n",
       "      <td>0.008006</td>\n",
       "    </tr>\n",
       "    <tr>\n",
       "      <th>18</th>\n",
       "      <td>Home Conference_CUSA</td>\n",
       "      <td>0.008105</td>\n",
       "    </tr>\n",
       "    <tr>\n",
       "      <th>19</th>\n",
       "      <td>Home Conference_FCS</td>\n",
       "      <td>0.001772</td>\n",
       "    </tr>\n",
       "    <tr>\n",
       "      <th>20</th>\n",
       "      <td>Home Conference_Independent</td>\n",
       "      <td>0.002956</td>\n",
       "    </tr>\n",
       "    <tr>\n",
       "      <th>21</th>\n",
       "      <td>Home Conference_MWC</td>\n",
       "      <td>0.007335</td>\n",
       "    </tr>\n",
       "    <tr>\n",
       "      <th>22</th>\n",
       "      <td>Home Conference_Mid-American</td>\n",
       "      <td>0.007684</td>\n",
       "    </tr>\n",
       "    <tr>\n",
       "      <th>23</th>\n",
       "      <td>Home Conference_Pac-12</td>\n",
       "      <td>0.006983</td>\n",
       "    </tr>\n",
       "    <tr>\n",
       "      <th>24</th>\n",
       "      <td>Home Conference_SEC</td>\n",
       "      <td>0.004871</td>\n",
       "    </tr>\n",
       "    <tr>\n",
       "      <th>25</th>\n",
       "      <td>Home Conference_Sun Belt</td>\n",
       "      <td>0.005929</td>\n",
       "    </tr>\n",
       "    <tr>\n",
       "      <th>26</th>\n",
       "      <td>Home Conference_WAC</td>\n",
       "      <td>0.006849</td>\n",
       "    </tr>\n",
       "    <tr>\n",
       "      <th>27</th>\n",
       "      <td>Opponent Conference_Non-Power 5</td>\n",
       "      <td>0.011144</td>\n",
       "    </tr>\n",
       "    <tr>\n",
       "      <th>28</th>\n",
       "      <td>Opponent Conference_Power 5</td>\n",
       "      <td>0.006317</td>\n",
       "    </tr>\n",
       "    <tr>\n",
       "      <th>29</th>\n",
       "      <td>Opponent Conference_Same Conference</td>\n",
       "      <td>0.008233</td>\n",
       "    </tr>\n",
       "  </tbody>\n",
       "</table>\n",
       "</div>"
      ],
      "text/plain": [
       "                                Feature  Important Score\n",
       "0                                  Time         0.067187\n",
       "1                                  Rank         0.033207\n",
       "2                            Attendance         0.109058\n",
       "3                             Fill Rate         0.102980\n",
       "4                             New Coach         0.012715\n",
       "5                            Tailgating         0.008914\n",
       "6                                  PRCP         0.037431\n",
       "7                         Opponent Rank         0.082079\n",
       "8                             Win Ratio         0.079051\n",
       "9                          Games Played         0.057798\n",
       "10                  Average Temperature         0.090859\n",
       "11                 Points Scored Season         0.107670\n",
       "12                Points Allowed Season         0.097960\n",
       "13                  Home Conference_AAC         0.004725\n",
       "14                  Home Conference_ACC         0.009937\n",
       "15             Home Conference_Big East         0.003187\n",
       "16               Home Conference_Big-10         0.009058\n",
       "17               Home Conference_Big-12         0.008006\n",
       "18                 Home Conference_CUSA         0.008105\n",
       "19                  Home Conference_FCS         0.001772\n",
       "20          Home Conference_Independent         0.002956\n",
       "21                  Home Conference_MWC         0.007335\n",
       "22         Home Conference_Mid-American         0.007684\n",
       "23               Home Conference_Pac-12         0.006983\n",
       "24                  Home Conference_SEC         0.004871\n",
       "25             Home Conference_Sun Belt         0.005929\n",
       "26                  Home Conference_WAC         0.006849\n",
       "27      Opponent Conference_Non-Power 5         0.011144\n",
       "28          Opponent Conference_Power 5         0.006317\n",
       "29  Opponent Conference_Same Conference         0.008233"
      ]
     },
     "execution_count": 23,
     "metadata": {},
     "output_type": "execute_result"
    }
   ],
   "source": [
    "df_toy = df.copy()\n",
    "\n",
    "X, y = df_toy.drop(columns=[\"Target\"]), df_toy[\"Target\"]\n",
    "\n",
    "X_train, X_test, y_train, y_test = train_test_split(X, y, test_size=0.2, random_state=42)\n",
    "model = RandomForestClassifier()\n",
    "model.fit(X_train, y_train)\n",
    "\n",
    "preds = model.predict(X_test)\n",
    "print(f\"Accuracy: {accuracy_score(y_test, preds) * 100:.2f}%\")\n",
    "\n",
    "feature_importances = pd.DataFrame({\n",
    "    \"Feature\": X_train.columns,\n",
    "    \"Important Score\": model.feature_importances_\n",
    "})\n",
    "feature_importances"
   ]
  },
  {
   "cell_type": "markdown",
   "id": "63a7815f",
   "metadata": {},
   "source": [
    "### 5. Modeling\n",
    "\n",
    "#### I. Decision Tree\n",
    "First we will attempt to model this dataset using a decision tree. We will use nested cross validation testing across various hyperparameters to identify an optimal decision tree solution."
   ]
  },
  {
   "cell_type": "code",
   "execution_count": 31,
   "id": "fabe50ea",
   "metadata": {},
   "outputs": [
    {
     "name": "stdout",
     "output_type": "stream",
     "text": [
      "Accuracy: 0.688315584220789\n",
      "              precision    recall  f1-score   support\n",
      "\n",
      "           0       0.59      0.41      0.49      2390\n",
      "           1       0.72      0.84      0.78      4277\n",
      "\n",
      "    accuracy                           0.69      6667\n",
      "   macro avg       0.66      0.63      0.63      6667\n",
      "weighted avg       0.67      0.69      0.67      6667\n",
      "\n"
     ]
    }
   ],
   "source": [
    "clf = DecisionTreeClassifier(criterion=\"entropy\")\n",
    "params = {\"max_depth\": [5, 10, 15, 20, 25], \"max_features\": list(range(1, 30, 5)) , \"min_samples_leaf\": list(range(1, 25, 5))}\n",
    "\n",
    "data_X, data_Y = df.drop(columns=[\"Target\"]), df[\"Target\"]\n",
    "\n",
    "grid_search = GridSearchCV(clf, params, cv=5, scoring='accuracy')\n",
    "pred_labels = cross_val_predict(grid_search, data_X, data_Y, cv=5)\n",
    "accuracy = accuracy_score(data_Y, pred_labels)\n",
    "\n",
    "print(\"Accuracy:\", accuracy)\n",
    "print(classification_report(data_Y, pred_labels))"
   ]
  },
  {
   "cell_type": "markdown",
   "id": "0cb6332d",
   "metadata": {},
   "source": [
    "#### II. Naive Bayes\n",
    "\n",
    "Next, we attempt to classify using the Gaussian Naive Bayes algorithm."
   ]
  },
  {
   "cell_type": "code",
   "execution_count": 33,
   "id": "e7cf823e",
   "metadata": {},
   "outputs": [
    {
     "name": "stdout",
     "output_type": "stream",
     "text": [
      "Accuracy: 0.5446227688615569\n",
      "              precision    recall  f1-score   support\n",
      "\n",
      "           0       0.40      0.55      0.46      2390\n",
      "           1       0.68      0.54      0.60      4277\n",
      "\n",
      "    accuracy                           0.54      6667\n",
      "   macro avg       0.54      0.55      0.53      6667\n",
      "weighted avg       0.58      0.54      0.55      6667\n",
      "\n"
     ]
    }
   ],
   "source": [
    "clf = GaussianNB()\n",
    "\n",
    "pred_labels = cross_val_predict(clf, data_X, data_Y, cv=10)\n",
    "print(\"Accuracy:\", accuracy_score(data_Y, pred_labels))\n",
    "print(classification_report(data_Y, pred_labels))"
   ]
  },
  {
   "cell_type": "markdown",
   "id": "f49f9177",
   "metadata": {},
   "source": [
    "#### III. KNN\n",
    "\n",
    "Next, we use the KNN algorithm. For this model, we perform data data scaling and dimensionality reduction to handle issues with using Euclidean distance as our metric. Our hyperparameters are the number of dimensions we reduce down to and the number of neighbors we use."
   ]
  },
  {
   "cell_type": "code",
   "execution_count": 38,
   "id": "84a36c3f",
   "metadata": {},
   "outputs": [
    {
     "name": "stdout",
     "output_type": "stream",
     "text": [
      "Accuracy: 0.6457177141142942\n",
      "              precision    recall  f1-score   support\n",
      "\n",
      "           0       0.51      0.29      0.37      2390\n",
      "           1       0.68      0.84      0.75      4277\n",
      "\n",
      "    accuracy                           0.65      6667\n",
      "   macro avg       0.60      0.57      0.56      6667\n",
      "weighted avg       0.62      0.65      0.62      6667\n",
      "\n"
     ]
    }
   ],
   "source": [
    "scaler = StandardScaler()\n",
    "pca = PCA()\n",
    "clf = KNeighborsClassifier()\n",
    "pipe = Pipeline(steps=[(\"scaler\", scaler), (\"pca\", pca), (\"knn\", clf)])\n",
    "params = {\n",
    "    'pca__n_components': list(range(5, 20, 3)),\n",
    "    'knn__n_neighbors': list(range(1, 20, 3))\n",
    "}\n",
    "grid_search = GridSearchCV(pipe, params, cv=5)\n",
    "\n",
    "pred_labels = cross_val_predict(grid_search, data_X, data_Y, cv=5)\n",
    "accuracy = accuracy_score(data_Y, pred_labels)\n",
    "\n",
    "print(\"Accuracy:\", accuracy)\n",
    "print(classification_report(data_Y, pred_labels))"
   ]
  },
  {
   "cell_type": "markdown",
   "id": "3ba04121",
   "metadata": {},
   "source": [
    "#### IV. SVM\n",
    "\n",
    "Next, we use a SVM model and again perform data scaling and dimensionality reduction. The hyperparameters here are the kernel and the number of dimensions used."
   ]
  },
  {
   "cell_type": "code",
   "execution_count": 50,
   "id": "f8be9bde",
   "metadata": {},
   "outputs": [
    {
     "name": "stdout",
     "output_type": "stream",
     "text": [
      "Accuracy: 0.6580170991450427\n",
      "              precision    recall  f1-score   support\n",
      "\n",
      "           0       0.56      0.21      0.30      2390\n",
      "           1       0.67      0.91      0.77      4277\n",
      "\n",
      "    accuracy                           0.66      6667\n",
      "   macro avg       0.62      0.56      0.54      6667\n",
      "weighted avg       0.63      0.66      0.60      6667\n",
      "\n"
     ]
    }
   ],
   "source": [
    "scaler = StandardScaler()\n",
    "pca = PCA()\n",
    "clf = SVC()\n",
    "pipe = Pipeline(steps=[(\"scaler\", scaler), (\"pca\", pca), (\"svm\", clf)])\n",
    "\n",
    "params = {\n",
    "    'pca__n_components': list(range(5, 20, 3)),\n",
    "    'svm__kernel': ['linear', 'rbf', 'poly']\n",
    "}\n",
    "\n",
    "grid_search = GridSearchCV(pipe, params, cv=5)\n",
    "\n",
    "pred_labels = cross_val_predict(grid_search, data_X, data_Y, cv=5)\n",
    "accuracy = accuracy_score(data_Y, pred_labels)\n",
    "\n",
    "print(\"Accuracy:\", accuracy)\n",
    "print(classification_report(data_Y, pred_labels))"
   ]
  },
  {
   "cell_type": "markdown",
   "id": "cff39b83",
   "metadata": {},
   "source": [
    "#### V. Neural Net\n",
    "\n",
    "Next, we try using a Neural Net and perform data scaling. The hyperparameters we are adjusting are the hidden layer size and the activation function used."
   ]
  },
  {
   "cell_type": "code",
   "execution_count": 46,
   "id": "d581b008",
   "metadata": {},
   "outputs": [
    {
     "name": "stdout",
     "output_type": "stream",
     "text": [
      "Accuracy: 0.6566671666416679\n",
      "              precision    recall  f1-score   support\n",
      "\n",
      "           0       0.53      0.32      0.40      2390\n",
      "           1       0.69      0.84      0.76      4277\n",
      "\n",
      "    accuracy                           0.66      6667\n",
      "   macro avg       0.61      0.58      0.58      6667\n",
      "weighted avg       0.63      0.66      0.63      6667\n",
      "\n"
     ]
    }
   ],
   "source": [
    "clf = MLPClassifier()\n",
    "scaler = StandardScaler()\n",
    "\n",
    "pipe = Pipeline(steps=[(\"scaler\", scaler), (\"mlp\", clf)])\n",
    "params = {\n",
    "    'mlp__hidden_layer_sizes': [(40,), (50,), (60,), (70,)],\n",
    "    'mlp__activation': ['logistic', 'tanh', 'relu'],\n",
    "    'mlp__early_stopping': [True],\n",
    "    'mlp__validation_fraction': [0.1],\n",
    "}\n",
    "\n",
    "grid_search = GridSearchCV(pipe, params, cv=5)\n",
    "\n",
    "pred_labels = cross_val_predict(grid_search, data_X, data_Y, cv=5)\n",
    "accuracy = accuracy_score(data_Y, pred_labels)\n",
    "\n",
    "print(\"Accuracy:\", accuracy)\n",
    "print(classification_report(data_Y, pred_labels))"
   ]
  },
  {
   "cell_type": "markdown",
   "id": "4cad0b5e",
   "metadata": {},
   "source": [
    "#### VI. Random Forest\n",
    "\n",
    "Now, we will begin to try using ensemble methods. First, we use the Random Forest model."
   ]
  },
  {
   "cell_type": "code",
   "execution_count": 48,
   "id": "307e7991",
   "metadata": {},
   "outputs": [
    {
     "name": "stdout",
     "output_type": "stream",
     "text": [
      "Accuracy: 0.6823158842057897\n",
      "              precision    recall  f1-score   support\n",
      "\n",
      "           0       0.65      0.24      0.35      2390\n",
      "           1       0.69      0.93      0.79      4277\n",
      "\n",
      "    accuracy                           0.68      6667\n",
      "   macro avg       0.67      0.58      0.57      6667\n",
      "weighted avg       0.68      0.68      0.63      6667\n",
      "\n"
     ]
    }
   ],
   "source": [
    "clf = RandomForestClassifier()\n",
    "\n",
    "params = {\n",
    "    'max_depth': list(range(5, 26, 5)),\n",
    "}\n",
    "\n",
    "grid_search = GridSearchCV(clf, params, cv=5)\n",
    "\n",
    "pred_labels = cross_val_predict(grid_search, data_X, data_Y, cv=5)\n",
    "accuracy = accuracy_score(data_Y, pred_labels)\n",
    "\n",
    "print(\"Accuracy:\", accuracy)\n",
    "print(classification_report(data_Y, pred_labels))"
   ]
  },
  {
   "cell_type": "markdown",
   "id": "ea62bc79",
   "metadata": {},
   "source": [
    "#### VII. AdaBoost\n",
    "\n",
    "Finally, we try the AdaBoost classifier on our data."
   ]
  },
  {
   "cell_type": "code",
   "execution_count": 49,
   "id": "54c7aa97",
   "metadata": {},
   "outputs": [
    {
     "name": "stdout",
     "output_type": "stream",
     "text": [
      "Accuracy: 0.6745162741862907\n",
      "              precision    recall  f1-score   support\n",
      "\n",
      "           0       0.57      0.39      0.46      2390\n",
      "           1       0.71      0.83      0.77      4277\n",
      "\n",
      "    accuracy                           0.67      6667\n",
      "   macro avg       0.64      0.61      0.62      6667\n",
      "weighted avg       0.66      0.67      0.66      6667\n",
      "\n"
     ]
    }
   ],
   "source": [
    "clf = AdaBoostClassifier()\n",
    "\n",
    "params = {\n",
    "    'n_estimators': list(range(50, 200, 50))\n",
    "}\n",
    "\n",
    "grid_search = GridSearchCV(clf, params, cv=5)\n",
    "\n",
    "pred_labels = cross_val_predict(grid_search, data_X, data_Y, cv=5)\n",
    "accuracy = accuracy_score(data_Y, pred_labels)\n",
    "\n",
    "print(\"Accuracy:\", accuracy)\n",
    "print(classification_report(data_Y, pred_labels))"
   ]
  }
 ],
 "metadata": {
  "kernelspec": {
   "display_name": "Python 3 (ipykernel)",
   "language": "python",
   "name": "python3"
  },
  "language_info": {
   "codemirror_mode": {
    "name": "ipython",
    "version": 3
   },
   "file_extension": ".py",
   "mimetype": "text/x-python",
   "name": "python",
   "nbconvert_exporter": "python",
   "pygments_lexer": "ipython3",
   "version": "3.9.12"
  }
 },
 "nbformat": 4,
 "nbformat_minor": 5
}
