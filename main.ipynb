{
 "cells": [
  {
   "cell_type": "code",
   "metadata": {
    "ExecuteTime": {
     "end_time": "2024-11-18T16:47:14.361835Z",
     "start_time": "2024-11-18T16:47:14.359089Z"
    }
   },
   "source": [
    "from datetime import datetime\n",
    "import matplotlib.pyplot as plt\n",
    "import pandas as pd\n",
    "import re"
   ],
   "id": "e056c0b3a398fd71",
   "outputs": [],
   "execution_count": 12
  },
  {
   "cell_type": "code",
   "id": "ce35058b3330b456",
   "metadata": {
    "ExecuteTime": {
     "end_time": "2024-11-18T16:47:14.634078Z",
     "start_time": "2024-11-18T16:47:14.613206Z"
    }
   },
   "source": [
    "df_raw = pd.read_csv(\"cfb_dataset.csv\", encoding=\"latin-1\")\n",
    "df_raw.head()"
   ],
   "outputs": [
    {
     "data": {
      "text/plain": [
       "        Date      Team      Time                   Opponent Rank  \\\n",
       "0   9/2/2000  Arkansas   8:00 PM  Southwest Missouri State*   NR   \n",
       "1  9/16/2000  Arkansas   6:00 PM               Boise State*   NR   \n",
       "2  9/23/2000  Arkansas   8:00 PM                    Alabama   NR   \n",
       "3  9/30/2000  Arkansas  11:30 AM             No. 25 Georgia   NR   \n",
       "4  10/7/2000  Arkansas   6:00 PM          LouisianaMonroe*   NR   \n",
       "\n",
       "                                  Site         TV   Result  Attendance  \\\n",
       "0  War Memorial StadiumLittle Rock, AR  Not on TV   W 380       53946   \n",
       "1  War Memorial StadiumLittle Rock, AR  Not on TV  W 3831       54286   \n",
       "2    Razorback StadiumFayetteville, AR      ESPN2  W 2821       51482   \n",
       "3    Razorback StadiumFayetteville, AR        JPS   L 738       51162   \n",
       "4    Razorback StadiumFayetteville, AR  Not on TV   W 526       50947   \n",
       "\n",
       "   Current Wins  ...  PRCP  SNOW  SNWD  TMAX  TMIN  Opponent_Rank  Conference  \\\n",
       "0             0  ...  0.00   0.0   0.0   105    65             NR         SEC   \n",
       "1             1  ...  0.00   0.0   0.0    79    44             NR         SEC   \n",
       "2             2  ...  2.12   0.0   0.0    85    63             NR         SEC   \n",
       "3             3  ...  0.00   0.0   0.0    77    45             25         SEC   \n",
       "4             3  ...  0.00   0.0   0.0    50    28             NR         SEC   \n",
       "\n",
       "   Year  Month  Day  \n",
       "0  2000      9    2  \n",
       "1  2000      9   16  \n",
       "2  2000      9   23  \n",
       "3  2000      9   30  \n",
       "4  2000     10    7  \n",
       "\n",
       "[5 rows x 25 columns]"
      ],
      "text/html": [
       "<div>\n",
       "<style scoped>\n",
       "    .dataframe tbody tr th:only-of-type {\n",
       "        vertical-align: middle;\n",
       "    }\n",
       "\n",
       "    .dataframe tbody tr th {\n",
       "        vertical-align: top;\n",
       "    }\n",
       "\n",
       "    .dataframe thead th {\n",
       "        text-align: right;\n",
       "    }\n",
       "</style>\n",
       "<table border=\"1\" class=\"dataframe\">\n",
       "  <thead>\n",
       "    <tr style=\"text-align: right;\">\n",
       "      <th></th>\n",
       "      <th>Date</th>\n",
       "      <th>Team</th>\n",
       "      <th>Time</th>\n",
       "      <th>Opponent</th>\n",
       "      <th>Rank</th>\n",
       "      <th>Site</th>\n",
       "      <th>TV</th>\n",
       "      <th>Result</th>\n",
       "      <th>Attendance</th>\n",
       "      <th>Current Wins</th>\n",
       "      <th>...</th>\n",
       "      <th>PRCP</th>\n",
       "      <th>SNOW</th>\n",
       "      <th>SNWD</th>\n",
       "      <th>TMAX</th>\n",
       "      <th>TMIN</th>\n",
       "      <th>Opponent_Rank</th>\n",
       "      <th>Conference</th>\n",
       "      <th>Year</th>\n",
       "      <th>Month</th>\n",
       "      <th>Day</th>\n",
       "    </tr>\n",
       "  </thead>\n",
       "  <tbody>\n",
       "    <tr>\n",
       "      <th>0</th>\n",
       "      <td>9/2/2000</td>\n",
       "      <td>Arkansas</td>\n",
       "      <td>8:00 PM</td>\n",
       "      <td>Southwest Missouri State*</td>\n",
       "      <td>NR</td>\n",
       "      <td>War Memorial StadiumLittle Rock, AR</td>\n",
       "      <td>Not on TV</td>\n",
       "      <td>W 380</td>\n",
       "      <td>53946</td>\n",
       "      <td>0</td>\n",
       "      <td>...</td>\n",
       "      <td>0.00</td>\n",
       "      <td>0.0</td>\n",
       "      <td>0.0</td>\n",
       "      <td>105</td>\n",
       "      <td>65</td>\n",
       "      <td>NR</td>\n",
       "      <td>SEC</td>\n",
       "      <td>2000</td>\n",
       "      <td>9</td>\n",
       "      <td>2</td>\n",
       "    </tr>\n",
       "    <tr>\n",
       "      <th>1</th>\n",
       "      <td>9/16/2000</td>\n",
       "      <td>Arkansas</td>\n",
       "      <td>6:00 PM</td>\n",
       "      <td>Boise State*</td>\n",
       "      <td>NR</td>\n",
       "      <td>War Memorial StadiumLittle Rock, AR</td>\n",
       "      <td>Not on TV</td>\n",
       "      <td>W 3831</td>\n",
       "      <td>54286</td>\n",
       "      <td>1</td>\n",
       "      <td>...</td>\n",
       "      <td>0.00</td>\n",
       "      <td>0.0</td>\n",
       "      <td>0.0</td>\n",
       "      <td>79</td>\n",
       "      <td>44</td>\n",
       "      <td>NR</td>\n",
       "      <td>SEC</td>\n",
       "      <td>2000</td>\n",
       "      <td>9</td>\n",
       "      <td>16</td>\n",
       "    </tr>\n",
       "    <tr>\n",
       "      <th>2</th>\n",
       "      <td>9/23/2000</td>\n",
       "      <td>Arkansas</td>\n",
       "      <td>8:00 PM</td>\n",
       "      <td>Alabama</td>\n",
       "      <td>NR</td>\n",
       "      <td>Razorback StadiumFayetteville, AR</td>\n",
       "      <td>ESPN2</td>\n",
       "      <td>W 2821</td>\n",
       "      <td>51482</td>\n",
       "      <td>2</td>\n",
       "      <td>...</td>\n",
       "      <td>2.12</td>\n",
       "      <td>0.0</td>\n",
       "      <td>0.0</td>\n",
       "      <td>85</td>\n",
       "      <td>63</td>\n",
       "      <td>NR</td>\n",
       "      <td>SEC</td>\n",
       "      <td>2000</td>\n",
       "      <td>9</td>\n",
       "      <td>23</td>\n",
       "    </tr>\n",
       "    <tr>\n",
       "      <th>3</th>\n",
       "      <td>9/30/2000</td>\n",
       "      <td>Arkansas</td>\n",
       "      <td>11:30 AM</td>\n",
       "      <td>No. 25 Georgia</td>\n",
       "      <td>NR</td>\n",
       "      <td>Razorback StadiumFayetteville, AR</td>\n",
       "      <td>JPS</td>\n",
       "      <td>L 738</td>\n",
       "      <td>51162</td>\n",
       "      <td>3</td>\n",
       "      <td>...</td>\n",
       "      <td>0.00</td>\n",
       "      <td>0.0</td>\n",
       "      <td>0.0</td>\n",
       "      <td>77</td>\n",
       "      <td>45</td>\n",
       "      <td>25</td>\n",
       "      <td>SEC</td>\n",
       "      <td>2000</td>\n",
       "      <td>9</td>\n",
       "      <td>30</td>\n",
       "    </tr>\n",
       "    <tr>\n",
       "      <th>4</th>\n",
       "      <td>10/7/2000</td>\n",
       "      <td>Arkansas</td>\n",
       "      <td>6:00 PM</td>\n",
       "      <td>LouisianaMonroe*</td>\n",
       "      <td>NR</td>\n",
       "      <td>Razorback StadiumFayetteville, AR</td>\n",
       "      <td>Not on TV</td>\n",
       "      <td>W 526</td>\n",
       "      <td>50947</td>\n",
       "      <td>3</td>\n",
       "      <td>...</td>\n",
       "      <td>0.00</td>\n",
       "      <td>0.0</td>\n",
       "      <td>0.0</td>\n",
       "      <td>50</td>\n",
       "      <td>28</td>\n",
       "      <td>NR</td>\n",
       "      <td>SEC</td>\n",
       "      <td>2000</td>\n",
       "      <td>10</td>\n",
       "      <td>7</td>\n",
       "    </tr>\n",
       "  </tbody>\n",
       "</table>\n",
       "<p>5 rows × 25 columns</p>\n",
       "</div>"
      ]
     },
     "execution_count": 13,
     "metadata": {},
     "output_type": "execute_result"
    }
   ],
   "execution_count": 13
  },
  {
   "cell_type": "code",
   "id": "fd8ba73a602bf491",
   "metadata": {
    "ExecuteTime": {
     "end_time": "2024-11-18T16:47:15.070260Z",
     "start_time": "2024-11-18T16:47:15.067458Z"
    }
   },
   "source": [
    "\"\"\"\n",
    "Explanations for possibly confusing columns:\n",
    "* Rank - Ranking based on AP Poll (ranked only for top-25 teams, \"NR\" otherwise)\n",
    "* Fill rate - same as Attendance / Stadium Capacity attributes\n",
    "* TV - which channel the game is broadcasted on\n",
    "* PRCP, SNOW, SNWD - precipitation, snow, and snow depth\n",
    "\n",
    "Note:\n",
    "* Each game is only recorded ONCE from the HOME TEAM's perspective, \n",
    "  which we'll have to account for in feature engineering\n",
    "* This dataset only contains 63 CFB schools and doesn't contain, say Texas.\n",
    "  However, this should not influence our modeling since the actual name\n",
    "  of a school should be more or less irrelevant\n",
    "* This dataset also does not include playoff games (but includes rivalry games\n",
    "  and conference championship games)\n",
    "\"\"\"\n",
    "df_raw.columns"
   ],
   "outputs": [
    {
     "data": {
      "text/plain": [
       "Index(['Date', 'Team', 'Time', 'Opponent', 'Rank', 'Site', 'TV', 'Result',\n",
       "       'Attendance', 'Current Wins', 'Current Losses', 'Stadium Capacity',\n",
       "       'Fill Rate', 'New Coach', 'Tailgating', 'PRCP', 'SNOW', 'SNWD', 'TMAX',\n",
       "       'TMIN', 'Opponent_Rank', 'Conference', 'Year', 'Month', 'Day'],\n",
       "      dtype='object')"
      ]
     },
     "execution_count": 14,
     "metadata": {},
     "output_type": "execute_result"
    }
   ],
   "execution_count": 14
  },
  {
   "cell_type": "code",
   "metadata": {
    "ExecuteTime": {
     "end_time": "2024-11-18T16:47:15.510988Z",
     "start_time": "2024-11-18T16:47:15.507877Z"
    }
   },
   "source": [
    "\"\"\"\n",
    "Ideas for new features\n",
    "* Win percentage for the season\n",
    "* Number of games in the season so far\n",
    "* Opponent wins and losses\n",
    "* Opponent conference\n",
    "* Home game vs. bowl game\n",
    "* Rivalry game and championship games\n",
    "* Binary win/loss attribute\n",
    "* Temperature differential for road team\n",
    "* Number of points scored by offense in season\n",
    "* Number of points allowed by defense in season\n",
    "\"\"\""
   ],
   "id": "4f28feb07320aaa9",
   "outputs": [
    {
     "data": {
      "text/plain": [
       "'\\nIdeas for new features\\n* Win percentage for the season\\n* Number of games in the season so far\\n* Opponent wins and losses\\n* Opponent conference\\n* Home game vs. bowl game\\n* Rivalry game and championship games\\n* Binary win/loss attribute\\n* Temperature differential for road team\\n* Number of points scored by offense in season\\n* Number of points allowed by defense in season\\n'"
      ]
     },
     "execution_count": 15,
     "metadata": {},
     "output_type": "execute_result"
    }
   ],
   "execution_count": 15
  },
  {
   "cell_type": "code",
   "metadata": {
    "ExecuteTime": {
     "end_time": "2024-11-18T16:47:15.965676Z",
     "start_time": "2024-11-18T16:47:15.962175Z"
    }
   },
   "source": [
    "# Irrelevant features (not even used for feature engineering)\n",
    "to_drop = [\n",
    "    \"TV\",\n",
    "    \"Stadium Capacity\",  # choosing to keep \"Fill Rate\" and \"Attedance\" instead\n",
    "    \"Day\",  # redundant since we already have \"Date\", also should not have an impact\n",
    "]\n",
    "df = df_raw.drop(columns=to_drop)"
   ],
   "id": "b64c9e825ce772e8",
   "outputs": [],
   "execution_count": 16
  },
  {
   "cell_type": "code",
   "metadata": {
    "ExecuteTime": {
     "end_time": "2024-11-18T16:47:16.609810Z",
     "start_time": "2024-11-18T16:47:16.587803Z"
    }
   },
   "source": [
    "# Convert to datetime object for ease of processing\n",
    "convert_datetime = lambda s: datetime.strptime(s, \"%m/%d/%Y\")\n",
    "df[\"Date\"] = df[\"Date\"].apply(convert_datetime)"
   ],
   "id": "efcc306a125dab88",
   "outputs": [],
   "execution_count": 17
  },
  {
   "cell_type": "code",
   "metadata": {
    "ExecuteTime": {
     "end_time": "2024-11-18T16:47:17.069913Z",
     "start_time": "2024-11-18T16:47:17.061361Z"
    }
   },
   "source": [
    "# Drop invalid rows (4355 resulted in Not Contest, 5449 was a spring game)\n",
    "df = df.drop(index=[4355, 5449])\n",
    "\n",
    "\"\"\"\n",
    "Extract win/loss for each game, convert to binary variable (1 for win, 0 for loss)\n",
    "There are more wins than losses (at home) for the 63 teams in the dataset\n",
    "Note: we cannot generate records from the away team's perspective since we don't have all the relevant information\n",
    "\"\"\"\n",
    "extract_result = lambda s: 1 if re.match(\"^(W|L)\", s).group(1) == \"W\" else 0\n",
    "df[\"Result\"] = df[\"Result\"].apply(extract_result)"
   ],
   "id": "4dd4ce873bde549d",
   "outputs": [],
   "execution_count": 18
  },
  {
   "cell_type": "code",
   "metadata": {
    "ExecuteTime": {
     "end_time": "2024-11-18T16:47:18.211762Z",
     "start_time": "2024-11-18T16:47:18.204588Z"
    }
   },
   "source": [
    "\"\"\"\n",
    "As you can see, the vast majority of values for SNOW and SNWD are zeroes (used to indicate\n",
    "snowfall and snowfall depth. Therefore, we will be dropping both attributes.\n",
    "\"\"\"\n",
    "print((df[\"SNOW\"] > 0).value_counts(), end=\"\\n\\n\")\n",
    "print((df[\"SNWD\"] > 0).value_counts())\n",
    "df = df.drop(columns=[\"SNOW\", \"SNWD\"])"
   ],
   "id": "3215076698e27212",
   "outputs": [
    {
     "name": "stdout",
     "output_type": "stream",
     "text": [
      "SNOW\n",
      "False    6633\n",
      "True       37\n",
      "Name: count, dtype: int64\n",
      "\n",
      "SNWD\n",
      "False    6635\n",
      "True       35\n",
      "Name: count, dtype: int64\n"
     ]
    }
   ],
   "execution_count": 19
  },
  {
   "metadata": {
    "ExecuteTime": {
     "end_time": "2024-11-18T17:48:52.501520Z",
     "start_time": "2024-11-18T17:48:52.418863Z"
    }
   },
   "cell_type": "code",
   "source": [
    "\"\"\"\n",
    "A school's conference has a huge impact in college football, some conferences\n",
    "(e.g. SEC) have been historical football strongholds, whereas others (e.g. AAC,\n",
    "Pac-12) often struggle with out-of-conference games.\n",
    "\n",
    "After calculating the win rates grouped by conference, we can see that the rates\n",
    "vary widely. Interestingly FCS (the second tier of D1 football) and WAC (the Western\n",
    "Athletic Conference, inactive from 2013 to 2020) have the highest win rates. This\n",
    "might be because that there is only a small sample size of FCS school games, and\n",
    "WAC schools play few strong out of conference opponents by design of the conference.\n",
    "\"\"\"\n",
    "print(\"FCS games count:\", len(df[df[\"Conference\"] == \"FCS\"]))\n",
    "stats = df.groupby(\"Conference\")[\"Result\"].mean().sort_values(ascending=False)\n",
    "\n",
    "plt.figure(figsize=(10, 5))\n",
    "stats.plot(kind=\"bar\")\n",
    "plt.ylim([0.5, 0.8])\n",
    "plt.show()"
   ],
   "id": "82ed61cfbe59235f",
   "outputs": [
    {
     "name": "stdout",
     "output_type": "stream",
     "text": [
      "FCS games count: 91\n"
     ]
    },
    {
     "data": {
      "text/plain": [
       "<Figure size 1000x500 with 1 Axes>"
      ],
      "image/png": "[encoded data removed]"
     },
     "metadata": {},
     "output_type": "display_data"
    }
   ],
   "execution_count": 77
  },
  {
   "metadata": {
    "ExecuteTime": {
     "end_time": "2024-11-18T16:47:22.202579Z",
     "start_time": "2024-11-18T16:47:19.569897Z"
    }
   },
   "cell_type": "code",
   "source": [
    "\"\"\"\n",
    "Here we process game data to clean and standardize opponent names and determine their conferences:\n",
    "1. Clean opponent names by removing special characters, rankings (e.g. \"No. 2\"), and other symbols.\n",
    "2. Match each opponent to their conference based on the year and team data from the dataset.\n",
    "3. Add two new columns:\n",
    "   - \"Clean_Opponent\": A cleaned version of the opponent name.\n",
    "   - \"Opponent_Conference\": The corresponding conference for the opponent, or \"N/A\" if not found.\n",
    "A limitation of this approach is that we can only impute the \"Opponent_Conference\" for opponents\n",
    "that are also one of the 63 schools included in the dataset. However, this is sufficient for our\n",
    "application.\n",
    "\"\"\"\n",
    "def clean_opponent_name(name):\n",
    "    name = name.replace(\"\\xa0\", \" \")\n",
    "    return re.sub(r\"No\\.\\s*\\d+\\s*\", \"\", name).rstrip('*')\n",
    "\n",
    "def calc_opponent_conference(row, dataset):\n",
    "    opponent = row[\"Clean_Opponent\"]\n",
    "    year = row[\"Year\"]\n",
    "    opponent_games = dataset[(dataset[\"Team\"] == opponent) & (dataset[\"Year\"] == year)]\n",
    "    \n",
    "    if not opponent_games.empty:\n",
    "        conference = opponent_games[\"Conference\"].dropna().iloc[0]\n",
    "        return conference\n",
    "    else:\n",
    "        return \"N/A\"\n",
    "\n",
    "df[\"Opponent\"] = df[\"Opponent\"].apply(clean_opponent_name)\n",
    "df[\"Opponent_Conference\"] = df.apply(calc_opponent_conference, axis=1, args=(df,))"
   ],
   "id": "f0d5bf7876dec6dd",
   "outputs": [],
   "execution_count": 21
  },
  {
   "metadata": {
    "ExecuteTime": {
     "end_time": "2024-11-18T17:29:22.679885Z",
     "start_time": "2024-11-18T17:29:22.661686Z"
    }
   },
   "cell_type": "code",
   "source": [
    "\"\"\"\n",
    "The actually team names should be generally irrelevant in win prediction, this will also\n",
    "allow us to run the model on schools that were not in the original dataset.\n",
    "\"\"\"\n",
    "to_drop = [\n",
    "    \"Team\", \"Opponent\",\n",
    "    \"Site\", \n",
    "    \"Date\", \"Year\", \"Month\",\n",
    "]\n",
    "df = df.drop(columns=to_drop)"
   ],
   "id": "36cd81c98041f955",
   "outputs": [],
   "execution_count": 24
  },
  {
   "metadata": {
    "ExecuteTime": {
     "end_time": "2024-11-18T17:32:45.603144Z",
     "start_time": "2024-11-18T17:32:45.598663Z"
    }
   },
   "cell_type": "code",
   "source": [
    "\"\"\"\n",
    "Convert rank to a numerical value, \"NR\" or no ranking is represented with 26,\n",
    "which is one higher than the lowest possible ranking (25).\n",
    "\"\"\"\n",
    "convert_rank = lambda v: int(v) if v != \"NR\" else 26\n",
    "df[\"Rank\"] = df[\"Rank\"].apply(convert_rank)\n",
    "df[\"Opponent_Rank\"] = df[\"Opponent_Rank\"].apply(convert_rank)"
   ],
   "id": "594a2d72c90150bf",
   "outputs": [],
   "execution_count": 34
  },
  {
   "metadata": {
    "ExecuteTime": {
     "end_time": "2024-11-18T17:44:30.661855Z",
     "start_time": "2024-11-18T17:44:30.637488Z"
    }
   },
   "cell_type": "code",
   "source": [
    "\"\"\"\n",
    "Normalize the start times of the games. CFB games start between 10 AM and 9 PM.\n",
    "0 represents a game starting at 10 AM and vice versa.\n",
    "\"\"\"\n",
    "convert_start_time = lambda t: datetime.strptime(t, \"%I:%M %p\")\n",
    "times = df[\"Time\"].apply(convert_start_time)\n",
    "min_time, max_time = convert_start_time(\"10:00 AM\"), convert_start_time(\"9:00 PM\")\n",
    "time_normalized = (times - min_time) / (max_time - min_time)\n",
    "df[\"Time\"] = time_normalized"
   ],
   "id": "186058a48e34fc17",
   "outputs": [],
   "execution_count": 57
  },
  {
   "metadata": {
    "ExecuteTime": {
     "end_time": "2024-11-18T18:11:38.241695Z",
     "start_time": "2024-11-18T18:11:38.229592Z"
    }
   },
   "cell_type": "code",
   "source": [
    "df_toy = df.drop(columns=[\"Conference\", \"Opponent_Conference\", \"TMIN\", \"TMAX\"])\n",
    "X, y = df_toy.drop(columns=[\"Result\"]), df_toy[\"Result\"]"
   ],
   "id": "cc6c0a967687cc85",
   "outputs": [],
   "execution_count": 83
  },
  {
   "metadata": {
    "ExecuteTime": {
     "end_time": "2024-11-18T18:12:59.171590Z",
     "start_time": "2024-11-18T18:12:57.686617Z"
    }
   },
   "cell_type": "code",
   "source": [
    "from sklearn.model_selection import train_test_split\n",
    "from sklearn.ensemble import RandomForestClassifier\n",
    "from sklearn.metrics import accuracy_score\n",
    "\n",
    "X_train, X_test, y_train, y_test = train_test_split(X, y, test_size=0.2, random_state=42)\n",
    "model = RandomForestClassifier()\n",
    "model.fit(X_train, y_train)\n",
    "\n",
    "preds = model.predict(X_test)\n",
    "print(f\"Accuracy: {accuracy_score(y_test, preds) * 100:.2f}%\")"
   ],
   "id": "44a1da8af2c7b139",
   "outputs": [
    {
     "name": "stdout",
     "output_type": "stream",
     "text": [
      "Accuracy: 70.99%\n"
     ]
    }
   ],
   "execution_count": 84
  }
 ],
 "metadata": {
  "kernelspec": {
   "display_name": "base",
   "language": "python",
   "name": "python3"
  },
  "language_info": {
   "codemirror_mode": {
    "name": "ipython",
    "version": 3
   },
   "file_extension": ".py",
   "mimetype": "text/x-python",
   "name": "python",
   "nbconvert_exporter": "python",
   "pygments_lexer": "ipython3",
   "version": "3.12.2"
  }
 },
 "nbformat": 4,
 "nbformat_minor": 5
}
